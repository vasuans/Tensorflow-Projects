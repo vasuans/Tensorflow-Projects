{
  "nbformat": 4,
  "nbformat_minor": 0,
  "metadata": {
    "colab": {
      "name": "ANN Tensorflow 2.0.ipynb",
      "provenance": [],
      "authorship_tag": "ABX9TyMnV2+PUUm9sTzCxAVhhnVW",
      "include_colab_link": true
    },
    "kernelspec": {
      "name": "python3",
      "display_name": "Python 3"
    }
  },
  "cells": [
    {
      "cell_type": "markdown",
      "metadata": {
        "id": "view-in-github",
        "colab_type": "text"
      },
      "source": [
        "<a href=\"https://colab.research.google.com/github/vasuans/Tensorflow-Projects/blob/master/ANN_Tensorflow_2_0.ipynb\" target=\"_parent\"><img src=\"https://colab.research.google.com/assets/colab-badge.svg\" alt=\"Open In Colab\"/></a>"
      ]
    },
    {
      "cell_type": "markdown",
      "metadata": {
        "id": "M2SGbMpvjV8_",
        "colab_type": "text"
      },
      "source": [
        "**Importing TensorFlow**"
      ]
    },
    {
      "cell_type": "code",
      "metadata": {
        "id": "c9pIu5kzgwLZ",
        "colab_type": "code",
        "colab": {}
      },
      "source": [
        "import tensorflow as tf"
      ],
      "execution_count": 1,
      "outputs": []
    },
    {
      "cell_type": "code",
      "metadata": {
        "id": "eEm322jKjPwk",
        "colab_type": "code",
        "colab": {
          "base_uri": "https://localhost:8080/",
          "height": 34
        },
        "outputId": "e8991497-e245-4399-897d-6e87c191aea1"
      },
      "source": [
        "print(tf.__version__)"
      ],
      "execution_count": 2,
      "outputs": [
        {
          "output_type": "stream",
          "text": [
            "2.2.0\n"
          ],
          "name": "stdout"
        }
      ]
    },
    {
      "cell_type": "markdown",
      "metadata": {
        "id": "DHnZuBjDjZVn",
        "colab_type": "text"
      },
      "source": [
        "**Importing MNIST data set.**"
      ]
    },
    {
      "cell_type": "code",
      "metadata": {
        "id": "IesFo6aTjUq0",
        "colab_type": "code",
        "colab": {
          "base_uri": "https://localhost:8080/",
          "height": 72
        },
        "outputId": "a5244c8c-72f7-4072-d9c3-190ae435a108"
      },
      "source": [
        "mnist = tf.keras.datasets.mnist\n",
        "\n",
        "(x_train,y_train),(x_test,y_test) = mnist.load_data()"
      ],
      "execution_count": 4,
      "outputs": [
        {
          "output_type": "stream",
          "text": [
            "Downloading data from https://storage.googleapis.com/tensorflow/tf-keras-datasets/mnist.npz\n",
            "11493376/11490434 [==============================] - 0s 0us/step\n"
          ],
          "name": "stdout"
        }
      ]
    },
    {
      "cell_type": "markdown",
      "metadata": {
        "id": "gnufxrLhl5Ax",
        "colab_type": "text"
      },
      "source": [
        "**As Tensorflow input need to be in 0 or 1, we have to divide input with 255.**"
      ]
    },
    {
      "cell_type": "code",
      "metadata": {
        "id": "6cB78mbMlmXv",
        "colab_type": "code",
        "colab": {
          "base_uri": "https://localhost:8080/",
          "height": 34
        },
        "outputId": "e6bfec51-9e08-4d77-cf74-a39e998eb909"
      },
      "source": [
        "x_train,x_test = x_train/255.0,x_test/255.0\n",
        "print(x_train.shape)"
      ],
      "execution_count": 9,
      "outputs": [
        {
          "output_type": "stream",
          "text": [
            "(60000, 28, 28)\n"
          ],
          "name": "stdout"
        }
      ]
    },
    {
      "cell_type": "markdown",
      "metadata": {
        "id": "2-m9BjdMnl6c",
        "colab_type": "text"
      },
      "source": [
        "**Build the model**"
      ]
    },
    {
      "cell_type": "code",
      "metadata": {
        "id": "GBzVFcGdlw6-",
        "colab_type": "code",
        "colab": {}
      },
      "source": [
        "model  = tf.keras.models.Sequential([\n",
        "   tf.keras.layers.Flatten(input_shape = [28,28]),\n",
        "   tf.keras.layers.Dense(256,activation ='relu'),\n",
        "   tf.keras.layers.Dropout(0.2),\n",
        "   tf.keras.layers.Dense(10,activation = 'softmax')                              \n",
        "])"
      ],
      "execution_count": 22,
      "outputs": []
    },
    {
      "cell_type": "markdown",
      "metadata": {
        "id": "Tiwa2mG-oykw",
        "colab_type": "text"
      },
      "source": [
        "**Compile Model**"
      ]
    },
    {
      "cell_type": "code",
      "metadata": {
        "id": "iazSR4gnoqDR",
        "colab_type": "code",
        "colab": {}
      },
      "source": [
        "model.compile(optimizer='adam',loss = 'sparse_categorical_crossentropy',metrics = ['accuracy'])"
      ],
      "execution_count": 23,
      "outputs": []
    },
    {
      "cell_type": "markdown",
      "metadata": {
        "id": "-svmL8ZBpqiB",
        "colab_type": "text"
      },
      "source": [
        "**Training the model**"
      ]
    },
    {
      "cell_type": "code",
      "metadata": {
        "id": "PEuWnyvFpl9I",
        "colab_type": "code",
        "colab": {
          "base_uri": "https://localhost:8080/",
          "height": 570
        },
        "outputId": "6ba50652-397a-4f89-f539-55db034bc517"
      },
      "source": [
        "r = model.fit(x_train,y_train,validation_data = (x_test,y_test),epochs=15)"
      ],
      "execution_count": 24,
      "outputs": [
        {
          "output_type": "stream",
          "text": [
            "Epoch 1/15\n",
            "1875/1875 [==============================] - 5s 3ms/step - loss: 1.0241 - accuracy: 0.7382 - val_loss: 0.4869 - val_accuracy: 0.8772\n",
            "Epoch 2/15\n",
            "1875/1875 [==============================] - 5s 3ms/step - loss: 0.4401 - accuracy: 0.8781 - val_loss: 0.3535 - val_accuracy: 0.9023\n",
            "Epoch 3/15\n",
            "1875/1875 [==============================] - 5s 3ms/step - loss: 0.3604 - accuracy: 0.8966 - val_loss: 0.3091 - val_accuracy: 0.9125\n",
            "Epoch 4/15\n",
            "1875/1875 [==============================] - 5s 3ms/step - loss: 0.3224 - accuracy: 0.9064 - val_loss: 0.2838 - val_accuracy: 0.9192\n",
            "Epoch 5/15\n",
            "1875/1875 [==============================] - 5s 3ms/step - loss: 0.2952 - accuracy: 0.9144 - val_loss: 0.2653 - val_accuracy: 0.9203\n",
            "Epoch 6/15\n",
            "1875/1875 [==============================] - 5s 3ms/step - loss: 0.2724 - accuracy: 0.9203 - val_loss: 0.2437 - val_accuracy: 0.9298\n",
            "Epoch 7/15\n",
            "1875/1875 [==============================] - 5s 3ms/step - loss: 0.2544 - accuracy: 0.9255 - val_loss: 0.2282 - val_accuracy: 0.9342\n",
            "Epoch 8/15\n",
            "1875/1875 [==============================] - 5s 3ms/step - loss: 0.2363 - accuracy: 0.9321 - val_loss: 0.2129 - val_accuracy: 0.9384\n",
            "Epoch 9/15\n",
            "1875/1875 [==============================] - 5s 3ms/step - loss: 0.2232 - accuracy: 0.9354 - val_loss: 0.1996 - val_accuracy: 0.9414\n",
            "Epoch 10/15\n",
            "1875/1875 [==============================] - 5s 3ms/step - loss: 0.2089 - accuracy: 0.9389 - val_loss: 0.1900 - val_accuracy: 0.9433\n",
            "Epoch 11/15\n",
            "1875/1875 [==============================] - 5s 3ms/step - loss: 0.1970 - accuracy: 0.9428 - val_loss: 0.1778 - val_accuracy: 0.9462\n",
            "Epoch 12/15\n",
            "1875/1875 [==============================] - 5s 3ms/step - loss: 0.1864 - accuracy: 0.9459 - val_loss: 0.1698 - val_accuracy: 0.9490\n",
            "Epoch 13/15\n",
            "1875/1875 [==============================] - 5s 3ms/step - loss: 0.1761 - accuracy: 0.9494 - val_loss: 0.1623 - val_accuracy: 0.9506\n",
            "Epoch 14/15\n",
            "1875/1875 [==============================] - 5s 3ms/step - loss: 0.1683 - accuracy: 0.9511 - val_loss: 0.1548 - val_accuracy: 0.9550\n",
            "Epoch 15/15\n",
            "1875/1875 [==============================] - 5s 3ms/step - loss: 0.1591 - accuracy: 0.9538 - val_loss: 0.1478 - val_accuracy: 0.9561\n"
          ],
          "name": "stdout"
        }
      ]
    },
    {
      "cell_type": "code",
      "metadata": {
        "id": "5KEbNPNZp75d",
        "colab_type": "code",
        "colab": {
          "base_uri": "https://localhost:8080/",
          "height": 34
        },
        "outputId": "5cc4b032-830e-4bd8-8b68-a46dc2def33c"
      },
      "source": [
        "r"
      ],
      "execution_count": 16,
      "outputs": [
        {
          "output_type": "execute_result",
          "data": {
            "text/plain": [
              "<tensorflow.python.keras.callbacks.History at 0x7f96b856f518>"
            ]
          },
          "metadata": {
            "tags": []
          },
          "execution_count": 16
        }
      ]
    },
    {
      "cell_type": "code",
      "metadata": {
        "id": "Mptkk2e3qTNt",
        "colab_type": "code",
        "colab": {
          "base_uri": "https://localhost:8080/",
          "height": 727
        },
        "outputId": "5bf63b9a-0533-4b8f-de82-64cd49bff216"
      },
      "source": [
        "r.history"
      ],
      "execution_count": 20,
      "outputs": [
        {
          "output_type": "execute_result",
          "data": {
            "text/plain": [
              "{'accuracy': [0.6920499801635742,\n",
              "  0.8483333587646484,\n",
              "  0.876883327960968,\n",
              "  0.8914833068847656,\n",
              "  0.9000833630561829,\n",
              "  0.9057666659355164,\n",
              "  0.9105833172798157,\n",
              "  0.9143833518028259,\n",
              "  0.9190166592597961,\n",
              "  0.9224500060081482],\n",
              " 'loss': [1.2345681190490723,\n",
              "  0.5517058372497559,\n",
              "  0.4329114556312561,\n",
              "  0.3800868093967438,\n",
              "  0.3478786051273346,\n",
              "  0.32621341943740845,\n",
              "  0.30798065662384033,\n",
              "  0.2933486998081207,\n",
              "  0.27838876843452454,\n",
              "  0.2664327025413513],\n",
              " 'val_accuracy': [0.8510000109672546,\n",
              "  0.8896999955177307,\n",
              "  0.9035000205039978,\n",
              "  0.911300003528595,\n",
              "  0.9128999710083008,\n",
              "  0.9193000197410583,\n",
              "  0.9225000143051147,\n",
              "  0.9258000254631042,\n",
              "  0.927299976348877,\n",
              "  0.9309999942779541],\n",
              " 'val_loss': [0.621368408203125,\n",
              "  0.422134667634964,\n",
              "  0.35485199093818665,\n",
              "  0.31898289918899536,\n",
              "  0.3007282316684723,\n",
              "  0.2782490849494934,\n",
              "  0.26503244042396545,\n",
              "  0.25191888213157654,\n",
              "  0.2427598387002945,\n",
              "  0.23032693564891815]}"
            ]
          },
          "metadata": {
            "tags": []
          },
          "execution_count": 20
        }
      ]
    },
    {
      "cell_type": "code",
      "metadata": {
        "id": "8R-rr4YJqZeK",
        "colab_type": "code",
        "colab": {
          "base_uri": "https://localhost:8080/",
          "height": 282
        },
        "outputId": "5f7ee5c2-e2b7-4d59-bf58-80d2420320b6"
      },
      "source": [
        "import matplotlib.pyplot as plt\n",
        "plt.plot(r.history['loss'],label = 'loss')\n",
        "plt.plot(r.history['val_loss'],label = 'val_loss')\n",
        "plt.legend()"
      ],
      "execution_count": 21,
      "outputs": [
        {
          "output_type": "execute_result",
          "data": {
            "text/plain": [
              "<matplotlib.legend.Legend at 0x7f96b84d50b8>"
            ]
          },
          "metadata": {
            "tags": []
          },
          "execution_count": 21
        },
        {
          "output_type": "display_data",
          "data": {
            "image/png": "[encoded data removed]",
            "text/plain": [
              "<Figure size 432x288 with 1 Axes>"
            ]
          },
          "metadata": {
            "tags": [],
            "needs_background": "light"
          }
        }
      ]
    },
    {
      "cell_type": "code",
      "metadata": {
        "id": "XQ5W7KSUqwgk",
        "colab_type": "code",
        "colab": {
          "base_uri": "https://localhost:8080/",
          "height": 282
        },
        "outputId": "27d63ade-7730-4b28-dbbc-b5b0590ffc17"
      },
      "source": [
        "plt.plot(r.history['accuracy'],label = 'acc')\n",
        "plt.plot(r.history['val_accuracy'],label = 'val_acc')\n",
        "plt.legend()"
      ],
      "execution_count": 27,
      "outputs": [
        {
          "output_type": "execute_result",
          "data": {
            "text/plain": [
              "<matplotlib.legend.Legend at 0x7f96b4032320>"
            ]
          },
          "metadata": {
            "tags": []
          },
          "execution_count": 27
        },
        {
          "output_type": "display_data",
          "data": {
            "image/png": "[encoded data removed]",
            "text/plain": [
              "<Figure size 432x288 with 1 Axes>"
            ]
          },
          "metadata": {
            "tags": [],
            "needs_background": "light"
          }
        }
      ]
    },
    {
      "cell_type": "code",
      "metadata": {
        "id": "Gmmi61MhrYny",
        "colab_type": "code",
        "colab": {
          "base_uri": "https://localhost:8080/",
          "height": 72
        },
        "outputId": "a9a4b0b5-316f-4eee-97ad-10c928a8ce82"
      },
      "source": [
        "print(model.evaluate(x_test,y_test))"
      ],
      "execution_count": 28,
      "outputs": [
        {
          "output_type": "stream",
          "text": [
            "313/313 [==============================] - 0s 1ms/step - loss: 0.1478 - accuracy: 0.9561\n",
            "[0.14779077470302582, 0.9560999870300293]\n"
          ],
          "name": "stdout"
        }
      ]
    },
    {
      "cell_type": "code",
      "metadata": {
        "id": "ck7wUNpNr0tE",
        "colab_type": "code",
        "colab": {}
      },
      "source": [
        ""
      ],
      "execution_count": null,
      "outputs": []
    }
  ]
}