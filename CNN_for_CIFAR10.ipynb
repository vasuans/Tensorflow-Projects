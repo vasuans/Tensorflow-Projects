{
  "nbformat": 4,
  "nbformat_minor": 0,
  "metadata": {
    "colab": {
      "name": "CNN for CIFAR10.ipynb",
      "provenance": [],
      "authorship_tag": "ABX9TyOV2pFGOXI3zoB5tuQu27kn",
      "include_colab_link": true
    },
    "kernelspec": {
      "name": "python3",
      "display_name": "Python 3"
    }
  },
  "cells": [
    {
      "cell_type": "markdown",
      "metadata": {
        "id": "view-in-github",
        "colab_type": "text"
      },
      "source": [
        "<a href=\"https://colab.research.google.com/github/vasuans/Tensorflow-Projects/blob/master/CNN_for_CIFAR10.ipynb\" target=\"_parent\"><img src=\"https://colab.research.google.com/assets/colab-badge.svg\" alt=\"Open In Colab\"/></a>"
      ]
    },
    {
      "cell_type": "markdown",
      "metadata": {
        "id": "6NrdpYCtCPht",
        "colab_type": "text"
      },
      "source": [
        "**Importing Tensorflow**"
      ]
    },
    {
      "cell_type": "code",
      "metadata": {
        "id": "TRSEK76qCKbb",
        "colab_type": "code",
        "colab": {
          "base_uri": "https://localhost:8080/",
          "height": 34
        },
        "outputId": "73dc17b5-6520-4ff3-fc90-9c6aee1d32e4"
      },
      "source": [
        "import tensorflow as tf\n",
        "print(tf.__version__)"
      ],
      "execution_count": 1,
      "outputs": [
        {
          "output_type": "stream",
          "text": [
            "2.2.0\n"
          ],
          "name": "stdout"
        }
      ]
    },
    {
      "cell_type": "markdown",
      "metadata": {
        "id": "-B08S0hUCbpi",
        "colab_type": "text"
      },
      "source": [
        "**Importing other required libraries**"
      ]
    },
    {
      "cell_type": "code",
      "metadata": {
        "id": "XCtSuZYmCkZu",
        "colab_type": "code",
        "colab": {}
      },
      "source": [
        "import pandas as pd\n",
        "import numpy as np\n",
        "import matplotlib.pyplot as plt\n",
        "from tensorflow.keras.layers import Input,Conv2D,Dense,Flatten,Dropout\n",
        "from tensorflow.keras.models import Model"
      ],
      "execution_count": 17,
      "outputs": []
    },
    {
      "cell_type": "markdown",
      "metadata": {
        "id": "r3sh_I2qCzOL",
        "colab_type": "text"
      },
      "source": [
        "Imporing CIFAR dataset from Tensorflow datasteps"
      ]
    },
    {
      "cell_type": "code",
      "metadata": {
        "id": "8SUbaTCZCrP7",
        "colab_type": "code",
        "colab": {}
      },
      "source": [
        "data = tf.keras.datasets.cifar10"
      ],
      "execution_count": 3,
      "outputs": []
    },
    {
      "cell_type": "code",
      "metadata": {
        "id": "voVrJgG5DFzW",
        "colab_type": "code",
        "colab": {
          "base_uri": "https://localhost:8080/",
          "height": 52
        },
        "outputId": "50cebad1-dae9-4277-fde2-d4a266d91749"
      },
      "source": [
        "(x_train,y_train),(x_test,y_test) = data.load_data()"
      ],
      "execution_count": 4,
      "outputs": [
        {
          "output_type": "stream",
          "text": [
            "Downloading data from https://www.cs.toronto.edu/~kriz/cifar-10-python.tar.gz\n",
            "170500096/170498071 [==============================] - 2s 0us/step\n"
          ],
          "name": "stdout"
        }
      ]
    },
    {
      "cell_type": "code",
      "metadata": {
        "id": "XBRmpZL3DL2F",
        "colab_type": "code",
        "colab": {
          "base_uri": "https://localhost:8080/",
          "height": 34
        },
        "outputId": "2a9e2b73-c2be-49b1-c0d3-7339187819c4"
      },
      "source": [
        "print(x_train.shape)"
      ],
      "execution_count": 5,
      "outputs": [
        {
          "output_type": "stream",
          "text": [
            "(50000, 32, 32, 3)\n"
          ],
          "name": "stdout"
        }
      ]
    },
    {
      "cell_type": "markdown",
      "metadata": {
        "id": "E-5vyOnQDQ4j",
        "colab_type": "text"
      },
      "source": [
        "**Input data is already in required shape .i.e. N X W X H X K** \n",
        "\n",
        "**Normalizing Data**"
      ]
    },
    {
      "cell_type": "code",
      "metadata": {
        "id": "hpgwqfPTDOnI",
        "colab_type": "code",
        "colab": {
          "base_uri": "https://localhost:8080/",
          "height": 34
        },
        "outputId": "f12c93fc-1d46-44d2-9bc5-9dc139ecf914"
      },
      "source": [
        "x_train,x_test = x_train/255.0,x_test/255.0\n",
        "y_train = y_train.flatten()\n",
        "y_test = y_test.flatten()\n",
        "print(y_train)"
      ],
      "execution_count": 25,
      "outputs": [
        {
          "output_type": "stream",
          "text": [
            "[6 9 9 ... 9 1 1]\n"
          ],
          "name": "stdout"
        }
      ]
    },
    {
      "cell_type": "code",
      "metadata": {
        "id": "lgDA8fODFxe4",
        "colab_type": "code",
        "colab": {
          "base_uri": "https://localhost:8080/",
          "height": 34
        },
        "outputId": "bdff5481-06b9-44f1-b3e6-81311bde42ec"
      },
      "source": [
        "K = len(set(y_train))\n",
        "print(K)"
      ],
      "execution_count": 22,
      "outputs": [
        {
          "output_type": "stream",
          "text": [
            "10\n"
          ],
          "name": "stdout"
        }
      ]
    },
    {
      "cell_type": "code",
      "metadata": {
        "id": "_Lj0L395Hfxf",
        "colab_type": "code",
        "colab": {}
      },
      "source": [
        "i = Input(shape = x_train[0].shape)\n",
        "x = Conv2D(32,(3,3),strides=2,activation = 'relu')(i)\n",
        "x = Conv2D(64,(3,3),strides=2,activation = 'relu')(x)\n",
        "x = Conv2D(128,(3,3),strides=2,activation = 'relu')(x)\n",
        "x = Flatten()(x)\n",
        "x = Dropout(0.2)(x)\n",
        "x = Dense(1024,activation='relu')(x)\n",
        "x = Dropout(0.2)(x)\n",
        "x = Dense(K,activation='softmax')(x)"
      ],
      "execution_count": 31,
      "outputs": []
    },
    {
      "cell_type": "code",
      "metadata": {
        "id": "0h96J79eJVpP",
        "colab_type": "code",
        "colab": {}
      },
      "source": [
        "model = Model(i,x)"
      ],
      "execution_count": 32,
      "outputs": []
    },
    {
      "cell_type": "code",
      "metadata": {
        "id": "QrHE2eZhJcpy",
        "colab_type": "code",
        "colab": {
          "base_uri": "https://localhost:8080/",
          "height": 550
        },
        "outputId": "8b72b7e3-d89d-475c-fd2e-f09b6fbed714"
      },
      "source": [
        "model.compile(optimizer='adam',\n",
        "loss = 'sparse_categorical_crossentropy',\n",
        "metrics = ['accuracy'] )\n",
        "r = model.fit(x_train,y_train,validation_data= (x_test,y_test),epochs=15)"
      ],
      "execution_count": 33,
      "outputs": [
        {
          "output_type": "stream",
          "text": [
            "Epoch 1/15\n",
            "1563/1563 [==============================] - 47s 30ms/step - loss: 2.3028 - accuracy: 0.1003 - val_loss: 2.3027 - val_accuracy: 0.1000\n",
            "Epoch 2/15\n",
            "1563/1563 [==============================] - 47s 30ms/step - loss: 2.3028 - accuracy: 0.0983 - val_loss: 2.3026 - val_accuracy: 0.1000\n",
            "Epoch 3/15\n",
            "1563/1563 [==============================] - 47s 30ms/step - loss: 2.3028 - accuracy: 0.0976 - val_loss: 2.3026 - val_accuracy: 0.1000\n",
            "Epoch 4/15\n",
            "1563/1563 [==============================] - 48s 30ms/step - loss: 2.3028 - accuracy: 0.0980 - val_loss: 2.3027 - val_accuracy: 0.1000\n",
            "Epoch 5/15\n",
            "1563/1563 [==============================] - 48s 30ms/step - loss: 2.3028 - accuracy: 0.0975 - val_loss: 2.3027 - val_accuracy: 0.1000\n",
            "Epoch 6/15\n",
            "1563/1563 [==============================] - 47s 30ms/step - loss: 2.3028 - accuracy: 0.0978 - val_loss: 2.3026 - val_accuracy: 0.1000\n",
            "Epoch 7/15\n",
            "1563/1563 [==============================] - 47s 30ms/step - loss: 2.3028 - accuracy: 0.0967 - val_loss: 2.3026 - val_accuracy: 0.1000\n",
            "Epoch 8/15\n",
            "1563/1563 [==============================] - 48s 31ms/step - loss: 2.3028 - accuracy: 0.0995 - val_loss: 2.3026 - val_accuracy: 0.1000\n",
            "Epoch 9/15\n",
            "1563/1563 [==============================] - 48s 31ms/step - loss: 2.3028 - accuracy: 0.0989 - val_loss: 2.3026 - val_accuracy: 0.1000\n",
            "Epoch 10/15\n",
            "1563/1563 [==============================] - 48s 30ms/step - loss: 2.3028 - accuracy: 0.0993 - val_loss: 2.3026 - val_accuracy: 0.1000\n",
            "Epoch 11/15\n",
            "1563/1563 [==============================] - 51s 33ms/step - loss: 2.3028 - accuracy: 0.0964 - val_loss: 2.3027 - val_accuracy: 0.1000\n",
            "Epoch 12/15\n",
            "1563/1563 [==============================] - 48s 31ms/step - loss: 2.3028 - accuracy: 0.0980 - val_loss: 2.3027 - val_accuracy: 0.1000\n",
            "Epoch 13/15\n",
            "1563/1563 [==============================] - 48s 31ms/step - loss: 2.3028 - accuracy: 0.0972 - val_loss: 2.3026 - val_accuracy: 0.1000\n",
            "Epoch 14/15\n",
            "1563/1563 [==============================] - 48s 31ms/step - loss: 2.3028 - accuracy: 0.0985 - val_loss: 2.3026 - val_accuracy: 0.1000\n",
            "Epoch 15/15\n",
            "1563/1563 [==============================] - 48s 31ms/step - loss: 2.3028 - accuracy: 0.0975 - val_loss: 2.3026 - val_accuracy: 0.1000\n"
          ],
          "name": "stdout"
        }
      ]
    },
    {
      "cell_type": "code",
      "metadata": {
        "id": "PV-mY1L4Jgwh",
        "colab_type": "code",
        "colab": {
          "base_uri": "https://localhost:8080/",
          "height": 293
        },
        "outputId": "795730d4-ff68-4a8a-a478-da6d6d79f710"
      },
      "source": [
        "plt.plot(r.history['loss'],label = 'loss')\n",
        "plt.plot(r.history['val_loss'],label = 'val_loss')\n",
        "plt.legend()"
      ],
      "execution_count": 34,
      "outputs": [
        {
          "output_type": "execute_result",
          "data": {
            "text/plain": [
              "<matplotlib.legend.Legend at 0x7fdd70469390>"
            ]
          },
          "metadata": {
            "tags": []
          },
          "execution_count": 34
        },
        {
          "output_type": "display_data",
          "data": {
            "image/png": "[encoded data removed]",
            "text/plain": [
              "<Figure size 432x288 with 1 Axes>"
            ]
          },
          "metadata": {
            "tags": [],
            "needs_background": "light"
          }
        }
      ]
    },
    {
      "cell_type": "code",
      "metadata": {
        "id": "3Ntd0MBwU9ph",
        "colab_type": "code",
        "colab": {
          "base_uri": "https://localhost:8080/",
          "height": 282
        },
        "outputId": "16e3fb1c-dec7-411f-96ad-1b0838f0ed42"
      },
      "source": [
        "plt.plot(r.history['accuracy'],label = 'acc')\n",
        "plt.plot(r.history['val_accuracy'],label = 'val_acc')\n",
        "plt.legend()"
      ],
      "execution_count": 35,
      "outputs": [
        {
          "output_type": "execute_result",
          "data": {
            "text/plain": [
              "<matplotlib.legend.Legend at 0x7fdd7049fe10>"
            ]
          },
          "metadata": {
            "tags": []
          },
          "execution_count": 35
        },
        {
          "output_type": "display_data",
          "data": {
            "image/png": "[encoded data removed]",
            "text/plain": [
              "<Figure size 432x288 with 1 Axes>"
            ]
          },
          "metadata": {
            "tags": [],
            "needs_background": "light"
          }
        }
      ]
    },
    {
      "cell_type": "code",
      "metadata": {
        "id": "GVpzTV-FVhSL",
        "colab_type": "code",
        "colab": {}
      },
      "source": [
        ""
      ],
      "execution_count": null,
      "outputs": []
    }
  ]
}