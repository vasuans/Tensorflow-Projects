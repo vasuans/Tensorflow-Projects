{
  "nbformat": 4,
  "nbformat_minor": 0,
  "metadata": {
    "colab": {
      "name": "CNN using TensorFlow2.0.ipynb",
      "provenance": [],
      "authorship_tag": "ABX9TyN8JCz3ess4wIayMHMziXrH",
      "include_colab_link": true
    },
    "kernelspec": {
      "name": "python3",
      "display_name": "Python 3"
    },
    "accelerator": "GPU"
  },
  "cells": [
    {
      "cell_type": "markdown",
      "metadata": {
        "id": "view-in-github",
        "colab_type": "text"
      },
      "source": [
        "<a href=\"https://colab.research.google.com/github/vasuans/Tensorflow-Projects/blob/master/CNN_using_TensorFlow2_0.ipynb\" target=\"_parent\"><img src=\"https://colab.research.google.com/assets/colab-badge.svg\" alt=\"Open In Colab\"/></a>"
      ]
    },
    {
      "cell_type": "markdown",
      "metadata": {
        "id": "dUbzOlNwp21S",
        "colab_type": "text"
      },
      "source": [
        "**Importing Tensorflow and other libraries**"
      ]
    },
    {
      "cell_type": "code",
      "metadata": {
        "id": "5EoTx7WWp13_",
        "colab_type": "code",
        "colab": {}
      },
      "source": [
        "import tensorflow as tf\n",
        "import numpy as np\n",
        "from tensorflow.keras.layers import Input,Conv2D,Dense,Flatten,Dropout\n",
        "from tensorflow.keras.models import Model\n"
      ],
      "execution_count": null,
      "outputs": []
    },
    {
      "cell_type": "code",
      "metadata": {
        "id": "6GAwtvMH2nOx",
        "colab_type": "code",
        "colab": {
          "base_uri": "https://localhost:8080/",
          "height": 34
        },
        "outputId": "ea0b7a44-7d80-4ea6-f7c6-2b42bd69e552"
      },
      "source": [
        "device_name = tf.test.gpu_device_name()\n",
        "if device_name != '/device:GPU:0':\n",
        "  raise SystemError('GPU device not found')\n",
        "print('Found GPU at: {}'.format(device_name))"
      ],
      "execution_count": null,
      "outputs": [
        {
          "output_type": "stream",
          "text": [
            "Found GPU at: /device:GPU:0\n"
          ],
          "name": "stdout"
        }
      ]
    },
    {
      "cell_type": "code",
      "metadata": {
        "id": "ovxggdUeqIzP",
        "colab_type": "code",
        "colab": {}
      },
      "source": [
        "import matplotlib.pyplot as plt"
      ],
      "execution_count": null,
      "outputs": []
    },
    {
      "cell_type": "markdown",
      "metadata": {
        "id": "hq1t03FbqXM1",
        "colab_type": "text"
      },
      "source": [
        "importing FashionMNIST from Tensorflow datasets"
      ]
    },
    {
      "cell_type": "code",
      "metadata": {
        "id": "KY0q909WqUbB",
        "colab_type": "code",
        "colab": {}
      },
      "source": [
        "data = tf.keras.datasets.fashion_mnist"
      ],
      "execution_count": null,
      "outputs": []
    },
    {
      "cell_type": "code",
      "metadata": {
        "id": "1ozjR1u1qoBj",
        "colab_type": "code",
        "colab": {}
      },
      "source": [
        "(x_train,y_train),(x_test,y_test) = data.load_data()"
      ],
      "execution_count": null,
      "outputs": []
    },
    {
      "cell_type": "markdown",
      "metadata": {
        "id": "cFi8ehE4q1nS",
        "colab_type": "text"
      },
      "source": [
        "**Normalizing data**"
      ]
    },
    {
      "cell_type": "code",
      "metadata": {
        "id": "51-bv2X0qud_",
        "colab_type": "code",
        "colab": {}
      },
      "source": [
        "x_train,x_test = x_train/255.0,x_test/255.0"
      ],
      "execution_count": null,
      "outputs": []
    },
    {
      "cell_type": "code",
      "metadata": {
        "id": "oquPCXdLq7Fc",
        "colab_type": "code",
        "colab": {
          "base_uri": "https://localhost:8080/",
          "height": 34
        },
        "outputId": "49b83076-81da-4ae4-818d-3c4ea882b6aa"
      },
      "source": [
        "print(x_train.shape)"
      ],
      "execution_count": null,
      "outputs": [
        {
          "output_type": "stream",
          "text": [
            "(60000, 28, 28)\n"
          ],
          "name": "stdout"
        }
      ]
    },
    {
      "cell_type": "markdown",
      "metadata": {
        "id": "HZ7vJB1OvzmF",
        "colab_type": "text"
      },
      "source": [
        "**Shape need to be modified from (N,W,D) to (N,W,D,1) so that CNN can take it as input**"
      ]
    },
    {
      "cell_type": "code",
      "metadata": {
        "id": "B6kZ-4zKvywA",
        "colab_type": "code",
        "colab": {
          "base_uri": "https://localhost:8080/",
          "height": 34
        },
        "outputId": "62575bea-6411-4c18-b9f9-ec1447bed644"
      },
      "source": [
        "x_train = np.expand_dims(x_train, -1)\n",
        "x_test = np.expand_dims(x_test,-1)\n",
        "print(x_train.shape)"
      ],
      "execution_count": null,
      "outputs": [
        {
          "output_type": "stream",
          "text": [
            "(60000, 28, 28, 1)\n"
          ],
          "name": "stdout"
        }
      ]
    },
    {
      "cell_type": "markdown",
      "metadata": {
        "id": "ZuFS35xDrCTI",
        "colab_type": "text"
      },
      "source": [
        "**Building model**"
      ]
    },
    {
      "cell_type": "code",
      "metadata": {
        "id": "B92f2b1cwy3I",
        "colab_type": "code",
        "colab": {
          "base_uri": "https://localhost:8080/",
          "height": 34
        },
        "outputId": "f7d76b6a-83b3-4ef2-d1b4-a52f9f4e26a8"
      },
      "source": [
        "print(x_train[0].shape)"
      ],
      "execution_count": null,
      "outputs": [
        {
          "output_type": "stream",
          "text": [
            "(28, 28, 1)\n"
          ],
          "name": "stdout"
        }
      ]
    },
    {
      "cell_type": "code",
      "metadata": {
        "id": "qLcPAMSPxrgk",
        "colab_type": "code",
        "colab": {
          "base_uri": "https://localhost:8080/",
          "height": 34
        },
        "outputId": "c8f1f8bf-d57b-4271-edd8-6c78c8006424"
      },
      "source": [
        "K = len(set(y_train))\n",
        "print(K)"
      ],
      "execution_count": null,
      "outputs": [
        {
          "output_type": "stream",
          "text": [
            "10\n"
          ],
          "name": "stdout"
        }
      ]
    },
    {
      "cell_type": "code",
      "metadata": {
        "id": "x4Ul4EhSq-n0",
        "colab_type": "code",
        "colab": {}
      },
      "source": [
        "i = Input(shape = x_train[0].shape)\n",
        "x = Conv2D(32,(3,3),strides=2,activation = 'relu')(i)\n",
        "x = Conv2D(64,(3,3),strides=2,activation = 'relu')(x)\n",
        "x = Conv2D(128,(3,3),strides=2,activation = 'relu')(x)\n",
        "x = Flatten()(x)\n",
        "x = Dropout(0.2)(x)\n",
        "x = Dense(512,activation='relu')(x)\n",
        "x = Dropout(0.2)(x)\n",
        "x = Dense(K,activation='softmax')(x)"
      ],
      "execution_count": null,
      "outputs": []
    },
    {
      "cell_type": "code",
      "metadata": {
        "id": "sABk5D4yx9z-",
        "colab_type": "code",
        "colab": {}
      },
      "source": [
        "model = Model(i,x)"
      ],
      "execution_count": null,
      "outputs": []
    },
    {
      "cell_type": "code",
      "metadata": {
        "id": "RtDCcF2B3QKx",
        "colab_type": "code",
        "colab": {
          "base_uri": "https://localhost:8080/",
          "height": 34
        },
        "outputId": "c58eb7d0-ea8e-4ee3-c5f0-cade1119f84b"
      },
      "source": [
        "x_train.shape"
      ],
      "execution_count": null,
      "outputs": [
        {
          "output_type": "execute_result",
          "data": {
            "text/plain": [
              "(60000, 28, 28, 1)"
            ]
          },
          "metadata": {
            "tags": []
          },
          "execution_count": 46
        }
      ]
    },
    {
      "cell_type": "code",
      "metadata": {
        "id": "IjR4TixsyVTr",
        "colab_type": "code",
        "colab": {
          "base_uri": "https://localhost:8080/",
          "height": 550
        },
        "outputId": "01a99bce-8f34-4ae1-ce56-0f625a75f6f2"
      },
      "source": [
        "model.compile(optimizer='adam',\n",
        "loss = 'sparse_categorical_crossentropy',\n",
        "metrics = ['accuracy'] )\n",
        "r = model.fit(x_train,y_train,validation_data= (x_test,y_test),epochs=15)"
      ],
      "execution_count": null,
      "outputs": [
        {
          "output_type": "stream",
          "text": [
            "Epoch 1/15\n",
            "1875/1875 [==============================] - 6s 3ms/step - loss: 0.5416 - accuracy: 0.7984 - val_loss: 0.3990 - val_accuracy: 0.8524\n",
            "Epoch 2/15\n",
            "1875/1875 [==============================] - 5s 3ms/step - loss: 0.3771 - accuracy: 0.8572 - val_loss: 0.3695 - val_accuracy: 0.8616\n",
            "Epoch 3/15\n",
            "1875/1875 [==============================] - 5s 3ms/step - loss: 0.3300 - accuracy: 0.8752 - val_loss: 0.3270 - val_accuracy: 0.8802\n",
            "Epoch 4/15\n",
            "1875/1875 [==============================] - 5s 3ms/step - loss: 0.2968 - accuracy: 0.8887 - val_loss: 0.3050 - val_accuracy: 0.8895\n",
            "Epoch 5/15\n",
            "1875/1875 [==============================] - 5s 3ms/step - loss: 0.2751 - accuracy: 0.8954 - val_loss: 0.3035 - val_accuracy: 0.8928\n",
            "Epoch 6/15\n",
            "1875/1875 [==============================] - 5s 3ms/step - loss: 0.2546 - accuracy: 0.9053 - val_loss: 0.2995 - val_accuracy: 0.8907\n",
            "Epoch 7/15\n",
            "1875/1875 [==============================] - 5s 3ms/step - loss: 0.2404 - accuracy: 0.9084 - val_loss: 0.2923 - val_accuracy: 0.8936\n",
            "Epoch 8/15\n",
            "1875/1875 [==============================] - 6s 3ms/step - loss: 0.2255 - accuracy: 0.9151 - val_loss: 0.3001 - val_accuracy: 0.8964\n",
            "Epoch 9/15\n",
            "1875/1875 [==============================] - 5s 3ms/step - loss: 0.2129 - accuracy: 0.9183 - val_loss: 0.3021 - val_accuracy: 0.8922\n",
            "Epoch 10/15\n",
            "1875/1875 [==============================] - 5s 3ms/step - loss: 0.1997 - accuracy: 0.9243 - val_loss: 0.2946 - val_accuracy: 0.9013\n",
            "Epoch 11/15\n",
            "1875/1875 [==============================] - 5s 3ms/step - loss: 0.1931 - accuracy: 0.9263 - val_loss: 0.3059 - val_accuracy: 0.8989\n",
            "Epoch 12/15\n",
            "1875/1875 [==============================] - 5s 3ms/step - loss: 0.1825 - accuracy: 0.9303 - val_loss: 0.3168 - val_accuracy: 0.8988\n",
            "Epoch 13/15\n",
            "1875/1875 [==============================] - 5s 3ms/step - loss: 0.1765 - accuracy: 0.9333 - val_loss: 0.3356 - val_accuracy: 0.8947\n",
            "Epoch 14/15\n",
            "1875/1875 [==============================] - 5s 3ms/step - loss: 0.1697 - accuracy: 0.9350 - val_loss: 0.3065 - val_accuracy: 0.9028\n",
            "Epoch 15/15\n",
            "1875/1875 [==============================] - 5s 3ms/step - loss: 0.1670 - accuracy: 0.9348 - val_loss: 0.3144 - val_accuracy: 0.9000\n"
          ],
          "name": "stdout"
        }
      ]
    },
    {
      "cell_type": "code",
      "metadata": {
        "id": "v2UzL7U9y286",
        "colab_type": "code",
        "colab": {
          "base_uri": "https://localhost:8080/",
          "height": 282
        },
        "outputId": "0194fa37-9693-4c07-9cc8-f324fb82dfb8"
      },
      "source": [
        "plt.plot(r.history['loss'],label = 'loss')\n",
        "plt.plot(r.history['val_loss'],label = 'val_loss')\n",
        "plt.legend()"
      ],
      "execution_count": null,
      "outputs": [
        {
          "output_type": "execute_result",
          "data": {
            "text/plain": [
              "<matplotlib.legend.Legend at 0x7f38151d3f98>"
            ]
          },
          "metadata": {
            "tags": []
          },
          "execution_count": 48
        },
        {
          "output_type": "display_data",
          "data": {
            "image/png": "[encoded data removed]",
            "text/plain": [
              "<Figure size 432x288 with 1 Axes>"
            ]
          },
          "metadata": {
            "tags": [],
            "needs_background": "light"
          }
        }
      ]
    },
    {
      "cell_type": "code",
      "metadata": {
        "id": "eD31cwlt5FyM",
        "colab_type": "code",
        "colab": {
          "base_uri": "https://localhost:8080/",
          "height": 284
        },
        "outputId": "17beed15-128d-4d82-cbbd-5ea70a3fe800"
      },
      "source": [
        "plt.plot(r.history['accuracy'],label = 'acc')\n",
        "plt.plot(r.history['val_accuracy'],label = 'val_acc')\n",
        "plt.legend()"
      ],
      "execution_count": null,
      "outputs": [
        {
          "output_type": "execute_result",
          "data": {
            "text/plain": [
              "<matplotlib.legend.Legend at 0x7f38151ae2b0>"
            ]
          },
          "metadata": {
            "tags": []
          },
          "execution_count": 49
        },
        {
          "output_type": "display_data",
          "data": {
            "image/png": "[encoded data removed]",
            "text/plain": [
              "<Figure size 432x288 with 1 Axes>"
            ]
          },
          "metadata": {
            "tags": [],
            "needs_background": "light"
          }
        }
      ]
    },
    {
      "cell_type": "code",
      "metadata": {
        "id": "YyIfpxQsM1cS",
        "colab_type": "code",
        "colab": {}
      },
      "source": [
        ""
      ],
      "execution_count": null,
      "outputs": []
    }
  ]
}