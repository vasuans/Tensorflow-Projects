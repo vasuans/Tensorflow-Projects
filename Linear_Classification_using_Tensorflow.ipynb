{
  "nbformat": 4,
  "nbformat_minor": 0,
  "metadata": {
    "colab": {
      "name": "Linear Classification using Tensorflow.ipynb",
      "provenance": [],
      "authorship_tag": "ABX9TyPk/vvwjZCYCBGcEG7eDKy0",
      "include_colab_link": true
    },
    "kernelspec": {
      "name": "python3",
      "display_name": "Python 3"
    }
  },
  "cells": [
    {
      "cell_type": "markdown",
      "metadata": {
        "id": "view-in-github",
        "colab_type": "text"
      },
      "source": [
        "<a href=\"https://colab.research.google.com/github/vasuans/Tensorflow-Projects/blob/master/Linear_Classification_using_Tensorflow.ipynb\" target=\"_parent\"><img src=\"https://colab.research.google.com/assets/colab-badge.svg\" alt=\"Open In Colab\"/></a>"
      ]
    },
    {
      "cell_type": "markdown",
      "metadata": {
        "id": "cn_kXy6kM7MS",
        "colab_type": "text"
      },
      "source": [
        "**Importing Tensorflow**"
      ]
    },
    {
      "cell_type": "code",
      "metadata": {
        "id": "wjIF34_8G6pW",
        "colab_type": "code",
        "outputId": "28c5f636-3343-4ae2-9bcd-adcf683e173f",
        "colab": {
          "base_uri": "https://localhost:8080/",
          "height": 34
        }
      },
      "source": [
        "import tensorflow as tf\n",
        "print(tf.__version__)"
      ],
      "execution_count": 0,
      "outputs": [
        {
          "output_type": "stream",
          "text": [
            "2.2.0\n"
          ],
          "name": "stdout"
        }
      ]
    },
    {
      "cell_type": "markdown",
      "metadata": {
        "id": "3U_7AxvgN3sB",
        "colab_type": "text"
      },
      "source": [
        "**Loading data from sklearn datasets**"
      ]
    },
    {
      "cell_type": "code",
      "metadata": {
        "id": "J3-8sh5kNAPG",
        "colab_type": "code",
        "colab": {}
      },
      "source": [
        "from sklearn.datasets import load_breast_cancer\n",
        "data = load_breast_cancer()"
      ],
      "execution_count": 0,
      "outputs": []
    },
    {
      "cell_type": "code",
      "metadata": {
        "id": "CoFBWeDgOVjq",
        "colab_type": "code",
        "outputId": "7e39a58f-4157-4c46-a258-e8d0dbf28392",
        "colab": {
          "base_uri": "https://localhost:8080/",
          "height": 34
        }
      },
      "source": [
        "type(data)"
      ],
      "execution_count": 0,
      "outputs": [
        {
          "output_type": "execute_result",
          "data": {
            "text/plain": [
              "sklearn.utils.Bunch"
            ]
          },
          "metadata": {
            "tags": []
          },
          "execution_count": 9
        }
      ]
    },
    {
      "cell_type": "markdown",
      "metadata": {
        "id": "2hwPuWkvOqCe",
        "colab_type": "text"
      },
      "source": [
        "**Data type Bunch works like a Dictionary. As this is having data type Bunch lets look at the keys of data**"
      ]
    },
    {
      "cell_type": "code",
      "metadata": {
        "id": "1Es4qLASOZwa",
        "colab_type": "code",
        "outputId": "e03f9dbb-fd29-4f05-83ec-e2ba831855b6",
        "colab": {
          "base_uri": "https://localhost:8080/",
          "height": 34
        }
      },
      "source": [
        "data.keys()"
      ],
      "execution_count": 0,
      "outputs": [
        {
          "output_type": "execute_result",
          "data": {
            "text/plain": [
              "dict_keys(['data', 'target', 'target_names', 'DESCR', 'feature_names', 'filename'])"
            ]
          },
          "metadata": {
            "tags": []
          },
          "execution_count": 10
        }
      ]
    },
    {
      "cell_type": "code",
      "metadata": {
        "id": "sWCDpg-0OtcC",
        "colab_type": "code",
        "outputId": "1d9330b8-a177-4f91-9013-c453acd5d776",
        "colab": {
          "base_uri": "https://localhost:8080/",
          "height": 34
        }
      },
      "source": [
        "data.data.shape"
      ],
      "execution_count": 0,
      "outputs": [
        {
          "output_type": "execute_result",
          "data": {
            "text/plain": [
              "(569, 30)"
            ]
          },
          "metadata": {
            "tags": []
          },
          "execution_count": 29
        }
      ]
    },
    {
      "cell_type": "code",
      "metadata": {
        "id": "LJpn95soRBAO",
        "colab_type": "code",
        "outputId": "090688fa-509f-4e4b-f1ea-18b19b1c3226",
        "colab": {
          "base_uri": "https://localhost:8080/",
          "height": 34
        }
      },
      "source": [
        "data.target.shape"
      ],
      "execution_count": 0,
      "outputs": [
        {
          "output_type": "execute_result",
          "data": {
            "text/plain": [
              "(569,)"
            ]
          },
          "metadata": {
            "tags": []
          },
          "execution_count": 30
        }
      ]
    },
    {
      "cell_type": "code",
      "metadata": {
        "id": "WXtQyoByRxzP",
        "colab_type": "code",
        "outputId": "32d17e7e-28aa-47dd-9c89-6b9492cfe5b6",
        "colab": {
          "base_uri": "https://localhost:8080/",
          "height": 194
        }
      },
      "source": [
        "data.feature_names"
      ],
      "execution_count": 0,
      "outputs": [
        {
          "output_type": "execute_result",
          "data": {
            "text/plain": [
              "array(['mean radius', 'mean texture', 'mean perimeter', 'mean area',\n",
              "       'mean smoothness', 'mean compactness', 'mean concavity',\n",
              "       'mean concave points', 'mean symmetry', 'mean fractal dimension',\n",
              "       'radius error', 'texture error', 'perimeter error', 'area error',\n",
              "       'smoothness error', 'compactness error', 'concavity error',\n",
              "       'concave points error', 'symmetry error',\n",
              "       'fractal dimension error', 'worst radius', 'worst texture',\n",
              "       'worst perimeter', 'worst area', 'worst smoothness',\n",
              "       'worst compactness', 'worst concavity', 'worst concave points',\n",
              "       'worst symmetry', 'worst fractal dimension'], dtype='<U23')"
            ]
          },
          "metadata": {
            "tags": []
          },
          "execution_count": 31
        }
      ]
    },
    {
      "cell_type": "code",
      "metadata": {
        "id": "q-tNggULRzhx",
        "colab_type": "code",
        "colab": {}
      },
      "source": [
        "from sklearn.model_selection import train_test_split"
      ],
      "execution_count": 0,
      "outputs": []
    },
    {
      "cell_type": "code",
      "metadata": {
        "id": "bXqm8C7FTDD4",
        "colab_type": "code",
        "colab": {}
      },
      "source": [
        "X_train, X_test, y_train, y_test = train_test_split(data.data, data.target, test_size =0.33)"
      ],
      "execution_count": 0,
      "outputs": []
    },
    {
      "cell_type": "code",
      "metadata": {
        "id": "cnuwwt_jTRfS",
        "colab_type": "code",
        "colab": {}
      },
      "source": [
        "N, D = X_train.shape"
      ],
      "execution_count": 0,
      "outputs": []
    },
    {
      "cell_type": "markdown",
      "metadata": {
        "id": "1Iso6T2bT0qb",
        "colab_type": "text"
      },
      "source": [
        "**Scaling the Data. This is important for Deep learning as one input can't be large(ex: 1 milion) and other input in small(ex: 0.001). So Sklearn provides an option to Normalize the data.**"
      ]
    },
    {
      "cell_type": "code",
      "metadata": {
        "id": "1PAf2TrFTdUx",
        "colab_type": "code",
        "colab": {}
      },
      "source": [
        "from sklearn.preprocessing import StandardScaler"
      ],
      "execution_count": 0,
      "outputs": []
    },
    {
      "cell_type": "code",
      "metadata": {
        "id": "AguyC8CZUugL",
        "colab_type": "code",
        "colab": {}
      },
      "source": [
        "scaler = StandardScaler()"
      ],
      "execution_count": 0,
      "outputs": []
    },
    {
      "cell_type": "code",
      "metadata": {
        "id": "BAvP83EjUy30",
        "colab_type": "code",
        "colab": {}
      },
      "source": [
        "X_train = scaler.fit_transform(X_train)\n",
        "X_test = scaler.transform(X_test)"
      ],
      "execution_count": 0,
      "outputs": []
    },
    {
      "cell_type": "code",
      "metadata": {
        "id": "m9Ih84LjWZ_X",
        "colab_type": "code",
        "colab": {
          "base_uri": "https://localhost:8080/",
          "height": 1000
        },
        "outputId": "4edc3a86-0c55-4e18-a3a4-3e0f6fab6224"
      },
      "source": [
        "# Tensorflow\n",
        "model = tf.keras.models.Sequential([\n",
        "tf.keras.layers.Input(shape = (D,)),\n",
        "tf.keras.layers.Dense(1,activation='sigmoid')\n",
        "])\n",
        "\n",
        "model.compile(optimizer = 'adam',\n",
        "              loss = 'binary_crossentropy',\n",
        "              metrics = ['accuracy'])\n",
        "#Train the model\n",
        "r = model.fit(X_train,y_train,validation_data = (X_test,y_test),epochs = 100)\n",
        "\n",
        "print (\"Train Score: \",model.evaluate(X_train,y_train))\n",
        "print (\"Train Score: \",model.evaluate(X_test,y_test))"
      ],
      "execution_count": 40,
      "outputs": [
        {
          "output_type": "stream",
          "text": [
            "Epoch 1/100\n",
            "12/12 [==============================] - 0s 16ms/step - loss: 0.7623 - accuracy: 0.4619 - val_loss: 0.7071 - val_accuracy: 0.6436\n",
            "Epoch 2/100\n",
            "12/12 [==============================] - 0s 5ms/step - loss: 0.6888 - accuracy: 0.5906 - val_loss: 0.6434 - val_accuracy: 0.7021\n",
            "Epoch 3/100\n",
            "12/12 [==============================] - 0s 4ms/step - loss: 0.6233 - accuracy: 0.6798 - val_loss: 0.5904 - val_accuracy: 0.7819\n",
            "Epoch 4/100\n",
            "12/12 [==============================] - 0s 4ms/step - loss: 0.5718 - accuracy: 0.7480 - val_loss: 0.5449 - val_accuracy: 0.8085\n",
            "Epoch 5/100\n",
            "12/12 [==============================] - 0s 4ms/step - loss: 0.5273 - accuracy: 0.7953 - val_loss: 0.5068 - val_accuracy: 0.8564\n",
            "Epoch 6/100\n",
            "12/12 [==============================] - 0s 4ms/step - loss: 0.4897 - accuracy: 0.8189 - val_loss: 0.4747 - val_accuracy: 0.8723\n",
            "Epoch 7/100\n",
            "12/12 [==============================] - 0s 4ms/step - loss: 0.4590 - accuracy: 0.8425 - val_loss: 0.4463 - val_accuracy: 0.8936\n",
            "Epoch 8/100\n",
            "12/12 [==============================] - 0s 4ms/step - loss: 0.4323 - accuracy: 0.8583 - val_loss: 0.4218 - val_accuracy: 0.8936\n",
            "Epoch 9/100\n",
            "12/12 [==============================] - 0s 4ms/step - loss: 0.4087 - accuracy: 0.8740 - val_loss: 0.4003 - val_accuracy: 0.8989\n",
            "Epoch 10/100\n",
            "12/12 [==============================] - 0s 4ms/step - loss: 0.3888 - accuracy: 0.8793 - val_loss: 0.3805 - val_accuracy: 0.9149\n",
            "Epoch 11/100\n",
            "12/12 [==============================] - 0s 5ms/step - loss: 0.3706 - accuracy: 0.8845 - val_loss: 0.3628 - val_accuracy: 0.9149\n",
            "Epoch 12/100\n",
            "12/12 [==============================] - 0s 4ms/step - loss: 0.3544 - accuracy: 0.8871 - val_loss: 0.3469 - val_accuracy: 0.9202\n",
            "Epoch 13/100\n",
            "12/12 [==============================] - 0s 4ms/step - loss: 0.3398 - accuracy: 0.9003 - val_loss: 0.3322 - val_accuracy: 0.9255\n",
            "Epoch 14/100\n",
            "12/12 [==============================] - 0s 5ms/step - loss: 0.3272 - accuracy: 0.9081 - val_loss: 0.3180 - val_accuracy: 0.9255\n",
            "Epoch 15/100\n",
            "12/12 [==============================] - 0s 4ms/step - loss: 0.3150 - accuracy: 0.9081 - val_loss: 0.3056 - val_accuracy: 0.9309\n",
            "Epoch 16/100\n",
            "12/12 [==============================] - 0s 4ms/step - loss: 0.3039 - accuracy: 0.9108 - val_loss: 0.2939 - val_accuracy: 0.9362\n",
            "Epoch 17/100\n",
            "12/12 [==============================] - 0s 5ms/step - loss: 0.2940 - accuracy: 0.9134 - val_loss: 0.2833 - val_accuracy: 0.9362\n",
            "Epoch 18/100\n",
            "12/12 [==============================] - 0s 5ms/step - loss: 0.2846 - accuracy: 0.9160 - val_loss: 0.2731 - val_accuracy: 0.9415\n",
            "Epoch 19/100\n",
            "12/12 [==============================] - 0s 4ms/step - loss: 0.2760 - accuracy: 0.9160 - val_loss: 0.2635 - val_accuracy: 0.9415\n",
            "Epoch 20/100\n",
            "12/12 [==============================] - 0s 5ms/step - loss: 0.2681 - accuracy: 0.9160 - val_loss: 0.2546 - val_accuracy: 0.9415\n",
            "Epoch 21/100\n",
            "12/12 [==============================] - 0s 4ms/step - loss: 0.2607 - accuracy: 0.9213 - val_loss: 0.2465 - val_accuracy: 0.9574\n",
            "Epoch 22/100\n",
            "12/12 [==============================] - 0s 5ms/step - loss: 0.2538 - accuracy: 0.9239 - val_loss: 0.2385 - val_accuracy: 0.9574\n",
            "Epoch 23/100\n",
            "12/12 [==============================] - 0s 6ms/step - loss: 0.2474 - accuracy: 0.9291 - val_loss: 0.2307 - val_accuracy: 0.9574\n",
            "Epoch 24/100\n",
            "12/12 [==============================] - 0s 5ms/step - loss: 0.2413 - accuracy: 0.9291 - val_loss: 0.2236 - val_accuracy: 0.9574\n",
            "Epoch 25/100\n",
            "12/12 [==============================] - 0s 4ms/step - loss: 0.2355 - accuracy: 0.9291 - val_loss: 0.2171 - val_accuracy: 0.9574\n",
            "Epoch 26/100\n",
            "12/12 [==============================] - 0s 4ms/step - loss: 0.2302 - accuracy: 0.9318 - val_loss: 0.2108 - val_accuracy: 0.9574\n",
            "Epoch 27/100\n",
            "12/12 [==============================] - 0s 4ms/step - loss: 0.2252 - accuracy: 0.9318 - val_loss: 0.2050 - val_accuracy: 0.9628\n",
            "Epoch 28/100\n",
            "12/12 [==============================] - 0s 4ms/step - loss: 0.2204 - accuracy: 0.9318 - val_loss: 0.1990 - val_accuracy: 0.9681\n",
            "Epoch 29/100\n",
            "12/12 [==============================] - 0s 5ms/step - loss: 0.2159 - accuracy: 0.9318 - val_loss: 0.1935 - val_accuracy: 0.9681\n",
            "Epoch 30/100\n",
            "12/12 [==============================] - 0s 4ms/step - loss: 0.2116 - accuracy: 0.9318 - val_loss: 0.1882 - val_accuracy: 0.9681\n",
            "Epoch 31/100\n",
            "12/12 [==============================] - 0s 4ms/step - loss: 0.2077 - accuracy: 0.9344 - val_loss: 0.1834 - val_accuracy: 0.9681\n",
            "Epoch 32/100\n",
            "12/12 [==============================] - 0s 4ms/step - loss: 0.2038 - accuracy: 0.9344 - val_loss: 0.1786 - val_accuracy: 0.9681\n",
            "Epoch 33/100\n",
            "12/12 [==============================] - 0s 4ms/step - loss: 0.2002 - accuracy: 0.9344 - val_loss: 0.1744 - val_accuracy: 0.9681\n",
            "Epoch 34/100\n",
            "12/12 [==============================] - 0s 5ms/step - loss: 0.1967 - accuracy: 0.9370 - val_loss: 0.1699 - val_accuracy: 0.9681\n",
            "Epoch 35/100\n",
            "12/12 [==============================] - 0s 4ms/step - loss: 0.1935 - accuracy: 0.9370 - val_loss: 0.1656 - val_accuracy: 0.9628\n",
            "Epoch 36/100\n",
            "12/12 [==============================] - 0s 4ms/step - loss: 0.1903 - accuracy: 0.9396 - val_loss: 0.1615 - val_accuracy: 0.9628\n",
            "Epoch 37/100\n",
            "12/12 [==============================] - 0s 4ms/step - loss: 0.1873 - accuracy: 0.9396 - val_loss: 0.1578 - val_accuracy: 0.9681\n",
            "Epoch 38/100\n",
            "12/12 [==============================] - 0s 5ms/step - loss: 0.1844 - accuracy: 0.9423 - val_loss: 0.1546 - val_accuracy: 0.9681\n",
            "Epoch 39/100\n",
            "12/12 [==============================] - 0s 4ms/step - loss: 0.1817 - accuracy: 0.9423 - val_loss: 0.1508 - val_accuracy: 0.9681\n",
            "Epoch 40/100\n",
            "12/12 [==============================] - 0s 4ms/step - loss: 0.1791 - accuracy: 0.9449 - val_loss: 0.1473 - val_accuracy: 0.9681\n",
            "Epoch 41/100\n",
            "12/12 [==============================] - 0s 5ms/step - loss: 0.1765 - accuracy: 0.9449 - val_loss: 0.1442 - val_accuracy: 0.9681\n",
            "Epoch 42/100\n",
            "12/12 [==============================] - 0s 4ms/step - loss: 0.1742 - accuracy: 0.9449 - val_loss: 0.1408 - val_accuracy: 0.9681\n",
            "Epoch 43/100\n",
            "12/12 [==============================] - 0s 4ms/step - loss: 0.1719 - accuracy: 0.9475 - val_loss: 0.1379 - val_accuracy: 0.9681\n",
            "Epoch 44/100\n",
            "12/12 [==============================] - 0s 4ms/step - loss: 0.1696 - accuracy: 0.9475 - val_loss: 0.1351 - val_accuracy: 0.9681\n",
            "Epoch 45/100\n",
            "12/12 [==============================] - 0s 5ms/step - loss: 0.1675 - accuracy: 0.9475 - val_loss: 0.1323 - val_accuracy: 0.9681\n",
            "Epoch 46/100\n",
            "12/12 [==============================] - 0s 4ms/step - loss: 0.1654 - accuracy: 0.9501 - val_loss: 0.1297 - val_accuracy: 0.9681\n",
            "Epoch 47/100\n",
            "12/12 [==============================] - 0s 4ms/step - loss: 0.1634 - accuracy: 0.9501 - val_loss: 0.1274 - val_accuracy: 0.9681\n",
            "Epoch 48/100\n",
            "12/12 [==============================] - 0s 5ms/step - loss: 0.1616 - accuracy: 0.9501 - val_loss: 0.1247 - val_accuracy: 0.9681\n",
            "Epoch 49/100\n",
            "12/12 [==============================] - 0s 4ms/step - loss: 0.1597 - accuracy: 0.9528 - val_loss: 0.1222 - val_accuracy: 0.9681\n",
            "Epoch 50/100\n",
            "12/12 [==============================] - 0s 4ms/step - loss: 0.1579 - accuracy: 0.9528 - val_loss: 0.1201 - val_accuracy: 0.9681\n",
            "Epoch 51/100\n",
            "12/12 [==============================] - 0s 4ms/step - loss: 0.1562 - accuracy: 0.9528 - val_loss: 0.1179 - val_accuracy: 0.9681\n",
            "Epoch 52/100\n",
            "12/12 [==============================] - 0s 5ms/step - loss: 0.1546 - accuracy: 0.9528 - val_loss: 0.1158 - val_accuracy: 0.9681\n",
            "Epoch 53/100\n",
            "12/12 [==============================] - 0s 5ms/step - loss: 0.1530 - accuracy: 0.9554 - val_loss: 0.1137 - val_accuracy: 0.9681\n",
            "Epoch 54/100\n",
            "12/12 [==============================] - 0s 4ms/step - loss: 0.1514 - accuracy: 0.9554 - val_loss: 0.1118 - val_accuracy: 0.9681\n",
            "Epoch 55/100\n",
            "12/12 [==============================] - 0s 4ms/step - loss: 0.1499 - accuracy: 0.9554 - val_loss: 0.1099 - val_accuracy: 0.9681\n",
            "Epoch 56/100\n",
            "12/12 [==============================] - 0s 5ms/step - loss: 0.1485 - accuracy: 0.9554 - val_loss: 0.1082 - val_accuracy: 0.9681\n",
            "Epoch 57/100\n",
            "12/12 [==============================] - 0s 5ms/step - loss: 0.1471 - accuracy: 0.9554 - val_loss: 0.1064 - val_accuracy: 0.9681\n",
            "Epoch 58/100\n",
            "12/12 [==============================] - 0s 4ms/step - loss: 0.1457 - accuracy: 0.9554 - val_loss: 0.1046 - val_accuracy: 0.9787\n",
            "Epoch 59/100\n",
            "12/12 [==============================] - 0s 4ms/step - loss: 0.1444 - accuracy: 0.9554 - val_loss: 0.1030 - val_accuracy: 0.9787\n",
            "Epoch 60/100\n",
            "12/12 [==============================] - 0s 4ms/step - loss: 0.1431 - accuracy: 0.9580 - val_loss: 0.1014 - val_accuracy: 0.9787\n",
            "Epoch 61/100\n",
            "12/12 [==============================] - 0s 5ms/step - loss: 0.1419 - accuracy: 0.9606 - val_loss: 0.0999 - val_accuracy: 0.9787\n",
            "Epoch 62/100\n",
            "12/12 [==============================] - 0s 4ms/step - loss: 0.1406 - accuracy: 0.9606 - val_loss: 0.0984 - val_accuracy: 0.9787\n",
            "Epoch 63/100\n",
            "12/12 [==============================] - 0s 4ms/step - loss: 0.1395 - accuracy: 0.9606 - val_loss: 0.0970 - val_accuracy: 0.9787\n",
            "Epoch 64/100\n",
            "12/12 [==============================] - 0s 5ms/step - loss: 0.1383 - accuracy: 0.9606 - val_loss: 0.0957 - val_accuracy: 0.9787\n",
            "Epoch 65/100\n",
            "12/12 [==============================] - 0s 4ms/step - loss: 0.1373 - accuracy: 0.9606 - val_loss: 0.0944 - val_accuracy: 0.9787\n",
            "Epoch 66/100\n",
            "12/12 [==============================] - 0s 5ms/step - loss: 0.1362 - accuracy: 0.9606 - val_loss: 0.0932 - val_accuracy: 0.9840\n",
            "Epoch 67/100\n",
            "12/12 [==============================] - 0s 4ms/step - loss: 0.1352 - accuracy: 0.9606 - val_loss: 0.0918 - val_accuracy: 0.9840\n",
            "Epoch 68/100\n",
            "12/12 [==============================] - 0s 5ms/step - loss: 0.1341 - accuracy: 0.9606 - val_loss: 0.0907 - val_accuracy: 0.9840\n",
            "Epoch 69/100\n",
            "12/12 [==============================] - 0s 4ms/step - loss: 0.1331 - accuracy: 0.9633 - val_loss: 0.0896 - val_accuracy: 0.9840\n",
            "Epoch 70/100\n",
            "12/12 [==============================] - 0s 4ms/step - loss: 0.1321 - accuracy: 0.9633 - val_loss: 0.0884 - val_accuracy: 0.9840\n",
            "Epoch 71/100\n",
            "12/12 [==============================] - 0s 4ms/step - loss: 0.1313 - accuracy: 0.9633 - val_loss: 0.0872 - val_accuracy: 0.9840\n",
            "Epoch 72/100\n",
            "12/12 [==============================] - 0s 4ms/step - loss: 0.1303 - accuracy: 0.9633 - val_loss: 0.0862 - val_accuracy: 0.9840\n",
            "Epoch 73/100\n",
            "12/12 [==============================] - 0s 4ms/step - loss: 0.1294 - accuracy: 0.9659 - val_loss: 0.0853 - val_accuracy: 0.9840\n",
            "Epoch 74/100\n",
            "12/12 [==============================] - 0s 4ms/step - loss: 0.1285 - accuracy: 0.9659 - val_loss: 0.0843 - val_accuracy: 0.9840\n",
            "Epoch 75/100\n",
            "12/12 [==============================] - 0s 4ms/step - loss: 0.1277 - accuracy: 0.9659 - val_loss: 0.0833 - val_accuracy: 0.9840\n",
            "Epoch 76/100\n",
            "12/12 [==============================] - 0s 5ms/step - loss: 0.1268 - accuracy: 0.9659 - val_loss: 0.0823 - val_accuracy: 0.9840\n",
            "Epoch 77/100\n",
            "12/12 [==============================] - 0s 4ms/step - loss: 0.1260 - accuracy: 0.9659 - val_loss: 0.0814 - val_accuracy: 0.9840\n",
            "Epoch 78/100\n",
            "12/12 [==============================] - 0s 5ms/step - loss: 0.1253 - accuracy: 0.9659 - val_loss: 0.0805 - val_accuracy: 0.9894\n",
            "Epoch 79/100\n",
            "12/12 [==============================] - 0s 4ms/step - loss: 0.1245 - accuracy: 0.9659 - val_loss: 0.0797 - val_accuracy: 0.9894\n",
            "Epoch 80/100\n",
            "12/12 [==============================] - 0s 4ms/step - loss: 0.1237 - accuracy: 0.9659 - val_loss: 0.0789 - val_accuracy: 0.9894\n",
            "Epoch 81/100\n",
            "12/12 [==============================] - 0s 4ms/step - loss: 0.1230 - accuracy: 0.9659 - val_loss: 0.0781 - val_accuracy: 0.9894\n",
            "Epoch 82/100\n",
            "12/12 [==============================] - 0s 4ms/step - loss: 0.1223 - accuracy: 0.9659 - val_loss: 0.0773 - val_accuracy: 0.9894\n",
            "Epoch 83/100\n",
            "12/12 [==============================] - 0s 4ms/step - loss: 0.1215 - accuracy: 0.9659 - val_loss: 0.0765 - val_accuracy: 0.9894\n",
            "Epoch 84/100\n",
            "12/12 [==============================] - 0s 4ms/step - loss: 0.1208 - accuracy: 0.9659 - val_loss: 0.0758 - val_accuracy: 0.9894\n",
            "Epoch 85/100\n",
            "12/12 [==============================] - 0s 5ms/step - loss: 0.1202 - accuracy: 0.9685 - val_loss: 0.0751 - val_accuracy: 0.9894\n",
            "Epoch 86/100\n",
            "12/12 [==============================] - 0s 5ms/step - loss: 0.1195 - accuracy: 0.9685 - val_loss: 0.0744 - val_accuracy: 0.9894\n",
            "Epoch 87/100\n",
            "12/12 [==============================] - 0s 4ms/step - loss: 0.1188 - accuracy: 0.9685 - val_loss: 0.0737 - val_accuracy: 0.9894\n",
            "Epoch 88/100\n",
            "12/12 [==============================] - 0s 4ms/step - loss: 0.1182 - accuracy: 0.9685 - val_loss: 0.0730 - val_accuracy: 0.9894\n",
            "Epoch 89/100\n",
            "12/12 [==============================] - 0s 5ms/step - loss: 0.1176 - accuracy: 0.9685 - val_loss: 0.0724 - val_accuracy: 0.9894\n",
            "Epoch 90/100\n",
            "12/12 [==============================] - 0s 4ms/step - loss: 0.1170 - accuracy: 0.9685 - val_loss: 0.0718 - val_accuracy: 0.9894\n",
            "Epoch 91/100\n",
            "12/12 [==============================] - 0s 4ms/step - loss: 0.1164 - accuracy: 0.9685 - val_loss: 0.0711 - val_accuracy: 0.9894\n",
            "Epoch 92/100\n",
            "12/12 [==============================] - 0s 4ms/step - loss: 0.1158 - accuracy: 0.9711 - val_loss: 0.0705 - val_accuracy: 0.9894\n",
            "Epoch 93/100\n",
            "12/12 [==============================] - 0s 4ms/step - loss: 0.1152 - accuracy: 0.9711 - val_loss: 0.0699 - val_accuracy: 0.9894\n",
            "Epoch 94/100\n",
            "12/12 [==============================] - 0s 5ms/step - loss: 0.1147 - accuracy: 0.9738 - val_loss: 0.0693 - val_accuracy: 0.9894\n",
            "Epoch 95/100\n",
            "12/12 [==============================] - 0s 5ms/step - loss: 0.1141 - accuracy: 0.9738 - val_loss: 0.0688 - val_accuracy: 0.9894\n",
            "Epoch 96/100\n",
            "12/12 [==============================] - 0s 4ms/step - loss: 0.1136 - accuracy: 0.9738 - val_loss: 0.0682 - val_accuracy: 0.9894\n",
            "Epoch 97/100\n",
            "12/12 [==============================] - 0s 4ms/step - loss: 0.1130 - accuracy: 0.9738 - val_loss: 0.0677 - val_accuracy: 0.9894\n",
            "Epoch 98/100\n",
            "12/12 [==============================] - 0s 4ms/step - loss: 0.1125 - accuracy: 0.9738 - val_loss: 0.0672 - val_accuracy: 0.9894\n",
            "Epoch 99/100\n",
            "12/12 [==============================] - 0s 4ms/step - loss: 0.1120 - accuracy: 0.9738 - val_loss: 0.0666 - val_accuracy: 0.9894\n",
            "Epoch 100/100\n",
            "12/12 [==============================] - 0s 5ms/step - loss: 0.1115 - accuracy: 0.9738 - val_loss: 0.0661 - val_accuracy: 0.9894\n",
            "12/12 [==============================] - 0s 1ms/step - loss: 0.1112 - accuracy: 0.9738\n",
            "Train Score:  [0.11116108298301697, 0.9737532734870911]\n",
            "6/6 [==============================] - 0s 2ms/step - loss: 0.0661 - accuracy: 0.9894\n",
            "Train Score:  [0.06613697111606598, 0.9893617033958435]\n"
          ],
          "name": "stdout"
        }
      ]
    },
    {
      "cell_type": "code",
      "metadata": {
        "id": "3RNrs-7_Yn0q",
        "colab_type": "code",
        "colab": {
          "base_uri": "https://localhost:8080/",
          "height": 282
        },
        "outputId": "60708e00-edfc-463c-e6fb-5d688fceed50"
      },
      "source": [
        "import matplotlib.pyplot as plt\n",
        "plt.plot(r.history['loss'],label = 'loss')\n",
        "plt.plot(r.history['val_loss'],label = 'val_loss')\n",
        "plt.legend()"
      ],
      "execution_count": 41,
      "outputs": [
        {
          "output_type": "execute_result",
          "data": {
            "text/plain": [
              "<matplotlib.legend.Legend at 0x7f855f0f9908>"
            ]
          },
          "metadata": {
            "tags": []
          },
          "execution_count": 41
        },
        {
          "output_type": "display_data",
          "data": {
            "image/png": "[encoded data removed]",
            "text/plain": [
              "<Figure size 432x288 with 1 Axes>"
            ]
          },
          "metadata": {
            "tags": [],
            "needs_background": "light"
          }
        }
      ]
    },
    {
      "cell_type": "code",
      "metadata": {
        "id": "9bJEusH3Zt5M",
        "colab_type": "code",
        "colab": {}
      },
      "source": [
        ""
      ],
      "execution_count": 0,
      "outputs": []
    }
  ]
}