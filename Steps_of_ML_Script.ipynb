{
  "nbformat": 4,
  "nbformat_minor": 0,
  "metadata": {
    "colab": {
      "name": "Steps of ML Script.ipynb",
      "provenance": [],
      "authorship_tag": "ABX9TyNOxc7m8MG58+rNBglh5o66",
      "include_colab_link": true
    },
    "kernelspec": {
      "name": "python3",
      "display_name": "Python 3"
    }
  },
  "cells": [
    {
      "cell_type": "markdown",
      "metadata": {
        "id": "view-in-github",
        "colab_type": "text"
      },
      "source": [
        "<a href=\"https://colab.research.google.com/github/vasuans/Tensorflow-Projects/blob/master/Steps_of_ML_Script.ipynb\" target=\"_parent\"><img src=\"https://colab.research.google.com/assets/colab-badge.svg\" alt=\"Open In Colab\"/></a>"
      ]
    },
    {
      "cell_type": "markdown",
      "metadata": {
        "id": "NgT-WK_fSDM6",
        "colab_type": "text"
      },
      "source": [
        "#**The Steps of a Machine Learning Script**\n",
        "1) Load in the data \n",
        "\n",
        "   X and Y \n",
        "\n",
        "  Typically use Pandas unless the data is too complex \n",
        "\n",
        "2) Split into train/test sets (sometimes) \n",
        "   Sometimes \"test\" and \"validation\" are used interchangeably, and the \"true test set\" is\tsomething else - don't get frazzled \n",
        "3) Build a model \n",
        "\ta) OOP (object oriented programming) \n",
        "\tb) Tensorflow 2.0 standard is Keras API, very similar to Scikit-Learn \n",
        "4) Fit the model (gradient descent) \n",
        "    a) model.fit(X, Y) \n",
        "5) Evaluate the model \n",
        "6) Make predictions"
      ]
    },
    {
      "cell_type": "code",
      "metadata": {
        "id": "Fp24gkH2R_yk",
        "colab_type": "code",
        "colab": {}
      },
      "source": [
        ""
      ],
      "execution_count": 0,
      "outputs": []
    }
  ]
}